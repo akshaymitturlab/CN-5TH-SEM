{
  "nbformat": 4,
  "nbformat_minor": 0,
  "metadata": {
    "colab": {
      "name": "distancevector.ipynb",
      "provenance": []
    },
    "kernelspec": {
      "name": "python3",
      "display_name": "Python 3"
    }
  },
  "cells": [
    {
      "cell_type": "code",
      "metadata": {
        "id": "mK1HB-38s_uv"
      },
      "source": [
        "class Network:  \n",
        "  \n",
        "    def __init__(self, vertices):  \n",
        "        self.V = vertices\n",
        "        self.graph = []  \n",
        "  \n",
        "    def addLink(self, u, v, w):  \n",
        "        self.graph.append([u, v, w])  \n",
        "          \n",
        "    def printTable(self, dist, src):\n",
        "        print(\"Vector Table of {}\".format(chr(ord('A')+src)))  \n",
        "        for i in range(self.V):  \n",
        "            print(\"{0}\\t{1}\".format(chr(ord('A')+i), dist[i]))\n",
        "       \n",
        "    def BellmanFord(self, src):  \n",
        "    \n",
        "        dist = [float(\"Inf\")] * self.V  \n",
        "        dist[src] = 0\n",
        "  \n",
        "  \n",
        "        for _ in range(self.V - 1):  \n",
        "            for u, v, w in self.graph:  \n",
        "                if dist[u] != float(\"Inf\") and dist[u] + w < dist[v]:  \n",
        "                        dist[v] = dist[u] + w  \n",
        "  \n",
        "        for u, v, w in self.graph:  \n",
        "                if dist[u] != float(\"Inf\") and dist[u] + w < dist[v]:  \n",
        "                        print(\"Graph contains negative weight cycle\") \n",
        "                        return\n",
        "                           \n",
        "        self.printTable(dist, src)  "
      ],
      "execution_count": 14,
      "outputs": []
    },
    {
      "cell_type": "code",
      "metadata": {
        "colab": {
          "base_uri": "https://localhost:8080/"
        },
        "id": "UCmLb-7i5GeC",
        "outputId": "27a248bf-18bb-43f9-e95a-aacfc3e1f547"
      },
      "source": [
        "def main():\n",
        "    matrix=[]\n",
        "    print(\"Enter No. of Nodes : \")\n",
        "    n=int(input())\n",
        "    print(\"Enter the Adjacency Matrix :\")\n",
        "    for i in range(n):\n",
        "        m=list(map(int,input().split(\" \")))\n",
        "        matrix.append(m)\n",
        "    g = Network(n)\n",
        "    for i in range(n):\n",
        "        for j in range(n):\n",
        "            if matrix[i][j]==1:\n",
        "                g.addLink(i,j,1)\n",
        "    \n",
        "    for _ in range(n):\n",
        "        g.BellmanFord(_)\n",
        "main()"
      ],
      "execution_count": 15,
      "outputs": [
        {
          "output_type": "stream",
          "text": [
            "Enter No. of Nodes : \n",
            "5\n",
            "Enter the Adjacency Matrix :\n",
            "0 1 1 99 99\n",
            "1 0 99 99 99\n",
            "1 99 0 1 1\n",
            "99 99 1 0 99\n",
            "99 99 1 99 0\n",
            "Vector Table of A\n",
            "A\t0\n",
            "B\t1\n",
            "C\t1\n",
            "D\t2\n",
            "E\t2\n",
            "Vector Table of B\n",
            "A\t1\n",
            "B\t0\n",
            "C\t2\n",
            "D\t3\n",
            "E\t3\n",
            "Vector Table of C\n",
            "A\t1\n",
            "B\t2\n",
            "C\t0\n",
            "D\t1\n",
            "E\t1\n",
            "Vector Table of D\n",
            "A\t2\n",
            "B\t3\n",
            "C\t1\n",
            "D\t0\n",
            "E\t2\n",
            "Vector Table of E\n",
            "A\t2\n",
            "B\t3\n",
            "C\t1\n",
            "D\t2\n",
            "E\t0\n"
          ],
          "name": "stdout"
        }
      ]
    },
    {
      "cell_type": "code",
      "metadata": {
        "id": "vlg6N58A5RwS"
      },
      "source": [
        ""
      ],
      "execution_count": null,
      "outputs": []
    }
  ]
}