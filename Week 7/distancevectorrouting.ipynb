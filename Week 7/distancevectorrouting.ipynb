{
  "nbformat": 4,
  "nbformat_minor": 0,
  "metadata": {
    "colab": {
      "name": "distancevectorrouting.ipynb",
      "provenance": []
    },
    "kernelspec": {
      "name": "python3",
      "display_name": "Python 3"
    }
  },
  "cells": [
    {
      "cell_type": "code",
      "metadata": {
        "id": "eq5RgNWJlTwp"
      },
      "source": [
        "class Topology:\r\n",
        "    def __init__(self, array_of_points):\r\n",
        "        self.nodes = array_of_points\r\n",
        "        self.edges = []\r\n",
        "    \r\n",
        "    def add_direct_connection(self, p1, p2, cost):\r\n",
        "        self.edges.append((p1, p2, cost))\r\n",
        "        self.edges.append((p2, p1, cost))\r\n",
        "        \r\n",
        "    def distance_vector_routing(self):\r\n",
        "        import collections\r\n",
        "        for node in self.nodes:\r\n",
        "            dist = collections.defaultdict(int)\r\n",
        "            next_hop = {node: node}\r\n",
        "            for other_node in self.nodes:\r\n",
        "                if other_node != node:\r\n",
        "                    dist[other_node] = 100000000 # infinity\r\n",
        "                \r\n",
        "            # Bellman Ford Algorithm\r\n",
        "            for i in range(len(self.nodes)-1):\r\n",
        "                for edge in self.edges:\r\n",
        "                    src, dest, cost = edge\r\n",
        "                    if dist[src] + cost < dist[dest]:\r\n",
        "                        dist[dest] = dist[src] + cost\r\n",
        "                        if src == node:\r\n",
        "                            next_hop[dest] =dest\r\n",
        "                        elif src in next_hop:\r\n",
        "                            next_hop[dest] = next_hop[src]\r\n",
        "            \r\n",
        "            self.print_routing_table(node, dist, next_hop)\r\n",
        "            print()\r\n",
        "            \r\n",
        "    def print_routing_table(self, node, dist, next_hop):\r\n",
        "        print(f'Routing table for {node}:')\r\n",
        "        print('Dest \\t Cost \\t Next Hop')\r\n",
        "        for dest, cost in dist.items():\r\n",
        "            print(f'{dest} \\t {cost} \\t {next_hop[dest]}')"
      ],
      "execution_count": 2,
      "outputs": []
    },
    {
      "cell_type": "code",
      "metadata": {
        "colab": {
          "base_uri": "https://localhost:8080/"
        },
        "id": "kG995oh6lVF-",
        "outputId": "80f82063-e24a-4278-e9fc-84cdb1a37754"
      },
      "source": [
        "nodes = ['A', 'B', 'C', 'D', 'E']\r\n",
        "\r\n",
        "t = Topology(nodes)\r\n",
        "\r\n",
        "t.add_direct_connection('A', 'B', 1)\r\n",
        "t.add_direct_connection('A', 'C', 5)\r\n",
        "t.add_direct_connection('B', 'C', 3)\r\n",
        "t.add_direct_connection('B', 'E', 9)\r\n",
        "t.add_direct_connection('C', 'D', 4)\r\n",
        "t.add_direct_connection('D', 'E', 2)\r\n",
        "\r\n",
        "t.distance_vector_routing()"
      ],
      "execution_count": 4,
      "outputs": [
        {
          "output_type": "stream",
          "text": [
            "Routing table for A:\n",
            "Dest \t Cost \t Next Hop\n",
            "B \t 1 \t B\n",
            "C \t 4 \t B\n",
            "D \t 8 \t B\n",
            "E \t 10 \t B\n",
            "A \t 0 \t A\n",
            "\n",
            "Routing table for B:\n",
            "Dest \t Cost \t Next Hop\n",
            "A \t 1 \t A\n",
            "C \t 3 \t C\n",
            "D \t 7 \t C\n",
            "E \t 9 \t E\n",
            "B \t 0 \t B\n",
            "\n",
            "Routing table for C:\n",
            "Dest \t Cost \t Next Hop\n",
            "A \t 4 \t B\n",
            "B \t 3 \t B\n",
            "D \t 4 \t D\n",
            "E \t 6 \t D\n",
            "C \t 0 \t C\n",
            "\n",
            "Routing table for D:\n",
            "Dest \t Cost \t Next Hop\n",
            "A \t 8 \t C\n",
            "B \t 7 \t C\n",
            "C \t 4 \t C\n",
            "E \t 2 \t E\n",
            "D \t 0 \t D\n",
            "\n",
            "Routing table for E:\n",
            "Dest \t Cost \t Next Hop\n",
            "A \t 10 \t B\n",
            "B \t 9 \t B\n",
            "C \t 6 \t D\n",
            "D \t 2 \t D\n",
            "E \t 0 \t E\n",
            "\n"
          ],
          "name": "stdout"
        }
      ]
    },
    {
      "cell_type": "code",
      "metadata": {
        "colab": {
          "base_uri": "https://localhost:8080/"
        },
        "id": "zlBAIiOOlsdd",
        "outputId": "93cc3877-808d-4256-e76a-f5ba0bd232c6"
      },
      "source": [
        "# User defined input\r\n",
        "nodes = input('Enter the nodes: ').split()\r\n",
        "\r\n",
        "t = Topology(nodes)\r\n",
        "\r\n",
        "edges = int(input('Enter the number of connections: '))\r\n",
        "for _ in range(edges):\r\n",
        "    src, dest, cost = input('Enter [src] [dest] [cost]: ').split()\r\n",
        "    t.add_direct_connection(src, dest, int(cost))\r\n",
        "    \r\n",
        "t.distance_vector_routing()"
      ],
      "execution_count": 7,
      "outputs": [
        {
          "output_type": "stream",
          "text": [
            "Enter the nodes: A B C D\n",
            "Enter the number of connections: 4\n",
            "Enter [src] [dest] [cost]: A B 7\n",
            "Enter [src] [dest] [cost]: A C 9\n",
            "Enter [src] [dest] [cost]: B D 6\n",
            "Enter [src] [dest] [cost]: B C 5\n",
            "Routing table for A:\n",
            "Dest \t Cost \t Next Hop\n",
            "B \t 7 \t B\n",
            "C \t 9 \t C\n",
            "D \t 13 \t B\n",
            "A \t 0 \t A\n",
            "\n",
            "Routing table for B:\n",
            "Dest \t Cost \t Next Hop\n",
            "A \t 7 \t A\n",
            "C \t 5 \t C\n",
            "D \t 6 \t D\n",
            "B \t 0 \t B\n",
            "\n",
            "Routing table for C:\n",
            "Dest \t Cost \t Next Hop\n",
            "A \t 9 \t A\n",
            "B \t 5 \t B\n",
            "D \t 11 \t B\n",
            "C \t 0 \t C\n",
            "\n",
            "Routing table for D:\n",
            "Dest \t Cost \t Next Hop\n",
            "A \t 13 \t B\n",
            "B \t 6 \t B\n",
            "C \t 11 \t B\n",
            "D \t 0 \t D\n",
            "\n"
          ],
          "name": "stdout"
        }
      ]
    }
  ]
}