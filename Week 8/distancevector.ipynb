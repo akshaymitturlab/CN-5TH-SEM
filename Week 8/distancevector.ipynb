{
  "nbformat": 4,
  "nbformat_minor": 0,
  "metadata": {
    "colab": {
      "name": "distancevector.ipynb",
      "provenance": []
    },
    "kernelspec": {
      "name": "python3",
      "display_name": "Python 3"
    }
  },
  "cells": [
    {
      "cell_type": "code",
      "metadata": {
        "id": "mK1HB-38s_uv"
      },
      "source": [
        "class Network:  \n",
        "  \n",
        "    def __init__(self, vertices):  \n",
        "        self.V = vertices\n",
        "        self.graph = []  \n",
        "  \n",
        "    def addLink(self, u, v, w):  \n",
        "        self.graph.append([u, v, w])  \n",
        "          \n",
        "    def printTable(self, dist):  \n",
        "        print(\"Vertex Distance from Source\")  \n",
        "        for i in range(self.V):  \n",
        "            print(\"{0}\\t\\t{1}\".format(i, dist[i]))  \n",
        "       \n",
        "    def BellmanFord(self, src):  \n",
        "    \n",
        "        dist = [float(\"Inf\")] * self.V  \n",
        "        dist[src] = 0\n",
        "  \n",
        "  \n",
        "        for _ in range(self.V - 1):  \n",
        "            for u, v, w in self.graph:  \n",
        "                if dist[u] != float(\"Inf\") and dist[u] + w < dist[v]:  \n",
        "                        dist[v] = dist[u] + w  \n",
        "  \n",
        "        for u, v, w in self.graph:  \n",
        "                if dist[u] != float(\"Inf\") and dist[u] + w < dist[v]:  \n",
        "                        print(\"Graph contains negative weight cycle\") \n",
        "                        return\n",
        "                           \n",
        "        self.printTable(dist)  "
      ],
      "execution_count": 8,
      "outputs": []
    },
    {
      "cell_type": "code",
      "metadata": {
        "colab": {
          "base_uri": "https://localhost:8080/"
        },
        "id": "UCmLb-7i5GeC",
        "outputId": "eb04f5a3-149d-4946-b720-00efe5d7b3c9"
      },
      "source": [
        "def main():\n",
        "    matrix=[]\n",
        "    print(\"Enter No. of Nodes : \")\n",
        "    n=int(input())\n",
        "    print(\"Enter the Adjacency Matrix :\")\n",
        "    for i in range(n):\n",
        "        m=list(map(int,input().split(\" \")))\n",
        "        matrix.append(m)\n",
        "    g = Network(n)\n",
        "    for i in range(n):\n",
        "        for j in range(n):\n",
        "            if matrix[i][j]==1:\n",
        "                g.addLink(i,j,1)\n",
        "    \n",
        "    for _ in range(n):\n",
        "        g.BellmanFord(_)\n",
        "main()"
      ],
      "execution_count": 9,
      "outputs": [
        {
          "output_type": "stream",
          "text": [
            "Enter No. of Nodes : \n",
            "5\n",
            "Enter the Adjacency Matrix :\n",
            "0 1 1 99 99\n",
            "1 0 99 99 99\n",
            "1 99 0 1 1\n",
            "99 99 1 0 99\n",
            "99 99 1 99 0\n",
            "Vertex Distance from Source\n",
            "0\t\t0\n",
            "1\t\t1\n",
            "2\t\t1\n",
            "3\t\t2\n",
            "4\t\t2\n",
            "Vertex Distance from Source\n",
            "0\t\t1\n",
            "1\t\t0\n",
            "2\t\t2\n",
            "3\t\t3\n",
            "4\t\t3\n",
            "Vertex Distance from Source\n",
            "0\t\t1\n",
            "1\t\t2\n",
            "2\t\t0\n",
            "3\t\t1\n",
            "4\t\t1\n",
            "Vertex Distance from Source\n",
            "0\t\t2\n",
            "1\t\t3\n",
            "2\t\t1\n",
            "3\t\t0\n",
            "4\t\t2\n",
            "Vertex Distance from Source\n",
            "0\t\t2\n",
            "1\t\t3\n",
            "2\t\t1\n",
            "3\t\t2\n",
            "4\t\t0\n"
          ],
          "name": "stdout"
        }
      ]
    },
    {
      "cell_type": "code",
      "metadata": {
        "id": "vlg6N58A5RwS"
      },
      "source": [
        ""
      ],
      "execution_count": null,
      "outputs": []
    }
  ]
}