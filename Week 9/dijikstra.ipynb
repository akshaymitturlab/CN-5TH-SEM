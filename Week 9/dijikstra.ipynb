{
  "nbformat": 4,
  "nbformat_minor": 0,
  "metadata": {
    "colab": {
      "name": "dijikstra.ipynb",
      "provenance": []
    },
    "kernelspec": {
      "name": "python3",
      "display_name": "Python 3"
    }
  },
  "cells": [
    {
      "cell_type": "code",
      "metadata": {
        "id": "8sqJtPRFw4Re"
      },
      "source": [
        "class Graph(): \n",
        "    def __init__(self, vertices): \n",
        "        self.V = vertices \n",
        "        self.graph = [[0 for column in range(vertices)]  \n",
        "                    for row in range(vertices)] \n",
        "  \n",
        "    def print_solution(self, dist): \n",
        "        print(\"Vertex \\tDistance from Source\")\n",
        "        for node in range(self.V): \n",
        "            print(node, \"\\t\", dist[node])\n",
        "  \n",
        "\n",
        "    def min_distance(self, dist, sptSet): \n",
        "        min = 9999\n",
        "        for v in range(self.V): \n",
        "            if dist[v] < min and sptSet[v] == False: \n",
        "                min = dist[v] \n",
        "                min_index = v \n",
        "  \n",
        "        return min_index \n",
        "    \n",
        "    def add_edge(self, src, dest, weight):\n",
        "        self.graph[src][dest] = self.graph[dest][src] = weight\n",
        "\n",
        "    def dijkstra(self, src): \n",
        "  \n",
        "        dist = [9999] * self.V \n",
        "        dist[src] = 0\n",
        "        sptSet = [False] * self.V \n",
        "  \n",
        "        for cout in range(self.V): \n",
        "            u = self.min_distance(dist, sptSet) \n",
        "            sptSet[u] = True\n",
        "            for v in range(self.V): \n",
        "                if self.graph[u][v] > 0 and sptSet[v] == False and dist[v] > dist[u] + self.graph[u][v]: \n",
        "                        dist[v] = dist[u] + self.graph[u][v] \n",
        "  \n",
        "        self.print_solution(dist) "
      ],
      "execution_count": 3,
      "outputs": []
    },
    {
      "cell_type": "code",
      "metadata": {
        "colab": {
          "base_uri": "https://localhost:8080/"
        },
        "id": "ng59Zk_kyEyy",
        "outputId": "53151cfe-c5e4-457a-bf97-f3ce88563fed"
      },
      "source": [
        "g = Graph(int(input(\"Enter number of nodes in the topology: \")))\n",
        "e = int(input(\"Enter number of edges: \"))\n",
        "\n",
        "for i in range(e):\n",
        "    src, dest, cost = [int(_) for _ in input(\"Enter [SRC] [DEST] [WEIGHT]: \").split(' ')]\n",
        "    g.add_edge(src, dest, cost)\n",
        "\n",
        "src = int(input(\"Enter [SRC] to find costs: \"))"
      ],
      "execution_count": 6,
      "outputs": [
        {
          "output_type": "stream",
          "text": [
            "Enter number of nodes in the topology: 5\n",
            "Enter number of edges: 6\n",
            "Enter [SRC] [DEST] [WEIGHT]: 0 1 2\n",
            "Enter [SRC] [DEST] [WEIGHT]: 0 2 1\n",
            "Enter [SRC] [DEST] [WEIGHT]: 0 3 4\n",
            "Enter [SRC] [DEST] [WEIGHT]: 1 4 3\n",
            "Enter [SRC] [DEST] [WEIGHT]: 2 4 1\n",
            "Enter [SRC] [DEST] [WEIGHT]: 3 4 8\n",
            "Enter [SRC] to find costs: 0\n"
          ],
          "name": "stdout"
        }
      ]
    },
    {
      "cell_type": "code",
      "metadata": {
        "colab": {
          "base_uri": "https://localhost:8080/"
        },
        "id": "Zn2VGThZyKTR",
        "outputId": "2b736b6a-f89a-4418-85da-4b7cc6839630"
      },
      "source": [
        "g.dijkstra(src)"
      ],
      "execution_count": 7,
      "outputs": [
        {
          "output_type": "stream",
          "text": [
            "Vertex \tDistance from Source\n",
            "0 \t 0\n",
            "1 \t 2\n",
            "2 \t 1\n",
            "3 \t 4\n",
            "4 \t 2\n"
          ],
          "name": "stdout"
        }
      ]
    },
    {
      "cell_type": "code",
      "metadata": {
        "id": "UkTDwtWLzqPB"
      },
      "source": [
        ""
      ],
      "execution_count": null,
      "outputs": []
    }
  ]
}